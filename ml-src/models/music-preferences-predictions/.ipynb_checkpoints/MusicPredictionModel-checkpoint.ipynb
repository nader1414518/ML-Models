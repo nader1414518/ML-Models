{
 "cells": [
  {
   "cell_type": "code",
   "execution_count": 153,
   "id": "b1bd1d13",
   "metadata": {},
   "outputs": [],
   "source": [
    "# Initial imports\n",
    "import pandas as pd\n",
    "from sklearn.tree import DecisionTreeClassifier\n",
    "from sklearn.model_selection import train_test_split\n",
    "from sklearn.metrics import accuracy_score\n",
    "import joblib\n",
    "from sklearn import tree\n"
   ]
  },
  {
   "cell_type": "code",
   "execution_count": 154,
   "id": "8a97a086",
   "metadata": {},
   "outputs": [],
   "source": [
    "# Load the dataset \n",
    "music_data = pd.read_csv('music.csv')"
   ]
  },
  {
   "cell_type": "code",
   "execution_count": 155,
   "id": "2d22b77b",
   "metadata": {},
   "outputs": [],
   "source": [
    "# Train the model\n",
    "input_dataset = music_data.drop(columns=['genre'])\n",
    "output_dataset = music_data['genre']\n",
    "\n",
    "input_train, input_test, output_train, output_test = train_test_split(input_dataset, output_dataset, test_size=0.2)\n",
    "\n",
    "model = DecisionTreeClassifier()\n",
    "model.fit(input_train, output_train)\n",
    "\n",
    "before_predictions = model.predict(input_test)\n",
    "\n",
    "score = accuracy_score(output_test, predictions)"
   ]
  },
  {
   "cell_type": "code",
   "execution_count": 156,
   "id": "51b17ea6",
   "metadata": {},
   "outputs": [],
   "source": [
    "# Save the model\n",
    "output_model = joblib.dump(model, 'music-recommender.joblib')"
   ]
  },
  {
   "cell_type": "code",
   "execution_count": 157,
   "id": "93cdbd03",
   "metadata": {},
   "outputs": [],
   "source": [
    "# Load the model \n",
    "# loaded_model = joblib.load('music-recommender.joblib')\n",
    "\n",
    "# after_predictions = loaded_model.predict(input_test)\n",
    "\n",
    "# print(before_predictions)\n",
    "\n",
    "# print(after_predictions)"
   ]
  },
  {
   "cell_type": "code",
   "execution_count": 158,
   "id": "4ca2c910",
   "metadata": {},
   "outputs": [],
   "source": [
    "# Visualize the decision tree\n",
    "tree.export_graphviz(model, \n",
    "                     out_file='music-recommender.dot', \n",
    "                     feature_names=['age', 'gender'],\n",
    "                     class_names=sorted(output_dataset.unique()),\n",
    "                     label='all', \n",
    "                     rounded=True, \n",
    "                     filled=True)"
   ]
  }
 ],
 "metadata": {
  "kernelspec": {
   "display_name": "Python 3 (ipykernel)",
   "language": "python",
   "name": "python3"
  },
  "language_info": {
   "codemirror_mode": {
    "name": "ipython",
    "version": 3
   },
   "file_extension": ".py",
   "mimetype": "text/x-python",
   "name": "python",
   "nbconvert_exporter": "python",
   "pygments_lexer": "ipython3",
   "version": "3.9.12"
  }
 },
 "nbformat": 4,
 "nbformat_minor": 5
}
